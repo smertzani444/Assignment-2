{
 "cells": [
  {
   "cell_type": "markdown",
   "id": "85008c93",
   "metadata": {},
   "source": [
    "# Imports "
   ]
  },
  {
   "cell_type": "code",
   "execution_count": 1,
   "id": "d0574970",
   "metadata": {},
   "outputs": [],
   "source": [
    "import pandas as pd\n",
    "import numpy as np\n",
    "import joblib\n",
    "import sys\n",
    "import os\n",
    "import itertools\n",
    "import seaborn as sns\n",
    "import matplotlib.pyplot as plt\n",
    "from sklearn.impute import SimpleImputer\n",
    "from sklearn.model_selection import train_test_split\n",
    "from sklearn.feature_selection import r_regression\n",
    "from sklearn.decomposition import PCA\n",
    "from sklearn.preprocessing import StandardScaler, OneHotEncoder, LabelEncoder\n",
    "from sklearn.model_selection import GridSearchCV, cross_val_score, KFold, StratifiedKFold\n",
    "from sklearn.pipeline import Pipeline \n",
    "from sklearn.pipeline import make_pipeline\n",
    "from sklearn.metrics import matthews_corrcoef, roc_auc_score, balanced_accuracy_score, f1_score, recall_score, precision_score, precision_recall_curve, auc, confusion_matrix\n",
    "from sklearn.base import clone\n",
    "from sklearn.svm import SVC"
   ]
  },
  {
   "cell_type": "code",
   "execution_count": 2,
   "id": "cc47aa3a",
   "metadata": {},
   "outputs": [],
   "source": [
    "PROJECT_ROOT = os.path.abspath(\"..\")\n",
    "if PROJECT_ROOT not in sys.path:\n",
    "    sys.path.append(PROJECT_ROOT)"
   ]
  },
  {
   "cell_type": "code",
   "execution_count": 3,
   "id": "57746581",
   "metadata": {},
   "outputs": [],
   "source": [
    "from src.functions import NestedCrossVal\n",
    "ncv=NestedCrossVal()"
   ]
  },
  {
   "cell_type": "markdown",
   "id": "f20b54ac",
   "metadata": {},
   "source": [
    "# Load the Data "
   ]
  },
  {
   "cell_type": "code",
   "execution_count": 4,
   "id": "8a1b6f57",
   "metadata": {},
   "outputs": [],
   "source": [
    "def load_data(path):\n",
    "        if not os.path.isfile(path):\n",
    "            raise FileNotFoundError(f\"The file at {path} was not found.\")\n",
    "        return pd.read_csv(path)\n",
    "\n",
    "path_to_data=\"/home/user_stel/Assignment-2/data/breast_cancer.csv\"\n",
    "data_df=load_data(path_to_data)\n",
    "\n",
    "#print(data_df.head()) #it should display a 512x32 dataframe"
   ]
  },
  {
   "cell_type": "markdown",
   "id": "49527d80",
   "metadata": {},
   "source": [
    "# Preprocessing"
   ]
  },
  {
   "cell_type": "code",
   "execution_count": 5,
   "id": "183bde70",
   "metadata": {},
   "outputs": [],
   "source": [
    "def preprocess_data(df, columns_to_drop=[]):\n",
    "    df=df.drop(columns=[col for col in columns_to_drop if col in df.columns])\n",
    "    num_list=df.select_dtypes(include=[np.number]).columns.tolist()\n",
    "    cat_list=df.select_dtypes(exclude=[np.number]).columns.tolist()\n",
    "\n",
    "    for col in cat_list:\n",
    "        df[col]=LabelEncoder().fit_transform(df[col])\n",
    "\n",
    "    for col in num_list:\n",
    "        df[col]=SimpleImputer(missing_values=np.nan, strategy='mean') \\\n",
    "            .fit_transform(df[[col]]).ravel()\n",
    "    \n",
    "    return df\n",
    "\n",
    "data_new_df=preprocess_data(data_df, columns_to_drop=[])"
   ]
  },
  {
   "cell_type": "markdown",
   "id": "d245c552",
   "metadata": {},
   "source": [
    "# Feature Selection"
   ]
  },
  {
   "cell_type": "code",
   "execution_count": 6,
   "id": "82eefabf",
   "metadata": {},
   "outputs": [],
   "source": [
    "def separate_features_target(df, target, columns_to_remove=None):\n",
    "    if columns_to_remove is None:\n",
    "        columns_to_remove=[]\n",
    "    columns_to_remove=set(columns_to_remove + [target])\n",
    "    X=df.drop(columns=[col for col in columns_to_remove if col in df.columns])\n",
    "    y=df[target]\n",
    "    return X, y\n",
    "\n",
    "X, y=separate_features_target(data_new_df, target='diagnosis', columns_to_remove=None)\n",
    "#print(X)\n",
    "#print(y)"
   ]
  },
  {
   "cell_type": "code",
   "execution_count": 7,
   "id": "140780ac",
   "metadata": {},
   "outputs": [
    {
     "name": "stdout",
     "output_type": "stream",
     "text": [
      "The selected features of 31 were: 15\n",
      "['radius_mean', 'perimeter_mean', 'area_mean', 'compactness_mean', 'concavity_mean', 'concave points_mean', 'radius_se', 'perimeter_se', 'area_se', 'radius_worst', 'perimeter_worst', 'area_worst', 'compactness_worst', 'concavity_worst', 'concave points_worst']\n"
     ]
    }
   ],
   "source": [
    "def select_features(X, y, threshold=0.1):\n",
    "    correlations = pd.Series(r_regression(X, y), index=X.columns)\n",
    "    selected_features = correlations[correlations.abs() >= threshold].index.tolist()\n",
    "    print(f\"The selected features of {X.shape[1]} were: {len(selected_features)}\")\n",
    "    return selected_features, correlations\n",
    "\n",
    "selected_features, correlations=select_features(X, y, threshold=0.5)\n",
    "print(selected_features)\n",
    "\n",
    "# Creates a new dataset that contains only the selected features \n",
    "X_selected=X[selected_features]\n",
    "#print(X_selected)\n",
    "\n",
    "selected_feature_names = X_selected.columns.tolist()\n",
    "target = 'diagnosis'\n",
    "data_selected_df = data_new_df[selected_feature_names + [target]]\n",
    "#print(data_selected_df) # the way this new dataframe is built the diagnosis column is last"
   ]
  },
  {
   "cell_type": "markdown",
   "id": "ce6d4c14",
   "metadata": {},
   "source": [
    "### Model initialization "
   ]
  },
  {
   "cell_type": "code",
   "execution_count": 8,
   "id": "2d2321b9",
   "metadata": {},
   "outputs": [],
   "source": [
    "model=SVC(random_state=0)\n",
    "svc_param_grid=[\n",
    "        {'kernel': ['linear'], 'C': [0.1, 1, 10]},\n",
    "        {'kernel': ['rbf'], 'C': [0.1, 1, 10], 'gamma': ['scale', 'auto', 0.01, 0.1]}\n",
    "    ]"
   ]
  },
  {
   "cell_type": "code",
   "execution_count": 9,
   "id": "92cb0df4",
   "metadata": {},
   "outputs": [
    {
     "name": "stdout",
     "output_type": "stream",
     "text": [
      "                                        0                             1   \\\n",
      "__winner__  {'kernel': 'linear', 'C': 0.1}  {'kernel': 'linear', 'C': 1}   \n",
      "\n",
      "                                       2   \\\n",
      "__winner__  {'kernel': 'linear', 'C': 10}   \n",
      "\n",
      "                                                       3   \\\n",
      "__winner__  {'kernel': 'rbf', 'C': 0.1, 'gamma': 'scale'}   \n",
      "\n",
      "                                                      4   \\\n",
      "__winner__  {'kernel': 'rbf', 'C': 0.1, 'gamma': 'auto'}   \n",
      "\n",
      "                                                    5   \\\n",
      "__winner__  {'kernel': 'rbf', 'C': 0.1, 'gamma': 0.01}   \n",
      "\n",
      "                                                   6   \\\n",
      "__winner__  {'kernel': 'rbf', 'C': 0.1, 'gamma': 0.1}   \n",
      "\n",
      "                                                     7   \\\n",
      "__winner__  {'kernel': 'rbf', 'C': 1, 'gamma': 'scale'}   \n",
      "\n",
      "                                                    8   \\\n",
      "__winner__  {'kernel': 'rbf', 'C': 1, 'gamma': 'auto'}   \n",
      "\n",
      "                                                  9   \\\n",
      "__winner__  {'kernel': 'rbf', 'C': 1, 'gamma': 0.01}   \n",
      "\n",
      "                                                 10  \\\n",
      "__winner__  {'kernel': 'rbf', 'C': 1, 'gamma': 0.1}   \n",
      "\n",
      "                                                      11  \\\n",
      "__winner__  {'kernel': 'rbf', 'C': 10, 'gamma': 'scale'}   \n",
      "\n",
      "                                                     12  \\\n",
      "__winner__  {'kernel': 'rbf', 'C': 10, 'gamma': 'auto'}   \n",
      "\n",
      "                                                   13  \\\n",
      "__winner__  {'kernel': 'rbf', 'C': 10, 'gamma': 0.01}   \n",
      "\n",
      "                                                  14  \n",
      "__winner__  {'kernel': 'rbf', 'C': 10, 'gamma': 0.1}  \n"
     ]
    }
   ],
   "source": [
    "svc_param_combinations=ncv.generate_param_combinations(param_grid=svc_param_grid)\n",
    "svc_combo_df_summary = pd.DataFrame.from_dict(svc_param_combinations, orient='index')\n",
    "print(svc_combo_df_summary)"
   ]
  },
  {
   "cell_type": "markdown",
   "id": "2f301bfc",
   "metadata": {},
   "source": [
    "# Hyperparameter Tuning using 5-fold Cross Validation"
   ]
  },
  {
   "cell_type": "code",
   "execution_count": null,
   "id": "ec20b019",
   "metadata": {},
   "outputs": [],
   "source": []
  }
 ],
 "metadata": {
  "kernelspec": {
   "display_name": "base",
   "language": "python",
   "name": "python3"
  },
  "language_info": {
   "codemirror_mode": {
    "name": "ipython",
    "version": 3
   },
   "file_extension": ".py",
   "mimetype": "text/x-python",
   "name": "python",
   "nbconvert_exporter": "python",
   "pygments_lexer": "ipython3",
   "version": "3.12.9"
  }
 },
 "nbformat": 4,
 "nbformat_minor": 5
}
