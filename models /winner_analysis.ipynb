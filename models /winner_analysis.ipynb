{
 "cells": [
  {
   "cell_type": "markdown",
   "id": "85008c93",
   "metadata": {},
   "source": [
    "# Imports "
   ]
  },
  {
   "cell_type": "code",
   "execution_count": 1,
   "id": "d0574970",
   "metadata": {},
   "outputs": [],
   "source": [
    "import pandas as pd\n",
    "import numpy as np\n",
    "import joblib\n",
    "import sys\n",
    "import os\n",
    "import itertools\n",
    "import seaborn as sns\n",
    "import matplotlib.pyplot as plt\n",
    "from sklearn.impute import SimpleImputer\n",
    "from sklearn.model_selection import train_test_split\n",
    "from sklearn.feature_selection import r_regression\n",
    "from sklearn.decomposition import PCA\n",
    "from sklearn.preprocessing import StandardScaler, OneHotEncoder, LabelEncoder\n",
    "from sklearn.model_selection import GridSearchCV, cross_val_score, KFold, StratifiedKFold\n",
    "from sklearn.pipeline import Pipeline \n",
    "from sklearn.pipeline import make_pipeline\n",
    "from sklearn.metrics import matthews_corrcoef, roc_auc_score, balanced_accuracy_score, f1_score, recall_score, precision_score, precision_recall_curve, auc, confusion_matrix\n",
    "from sklearn.base import clone\n",
    "from sklearn.svm import SVC"
   ]
  },
  {
   "cell_type": "code",
   "execution_count": 2,
   "id": "cc47aa3a",
   "metadata": {},
   "outputs": [],
   "source": [
    "PROJECT_ROOT = os.path.abspath(\"..\")\n",
    "if PROJECT_ROOT not in sys.path:\n",
    "    sys.path.append(PROJECT_ROOT)"
   ]
  },
  {
   "cell_type": "code",
   "execution_count": 3,
   "id": "57746581",
   "metadata": {},
   "outputs": [],
   "source": [
    "from src.functions import NestedCrossVal, Classifier \n",
    "classifier=Classifier()\n",
    "ncv=NestedCrossVal()"
   ]
  },
  {
   "cell_type": "markdown",
   "id": "f20b54ac",
   "metadata": {},
   "source": [
    "# Load the Data "
   ]
  },
  {
   "cell_type": "code",
   "execution_count": 4,
   "id": "b5df0099",
   "metadata": {},
   "outputs": [],
   "source": [
    "path_to_data=\"/home/user_stel/Assignment-2/data/breast_cancer.csv\"\n",
    "data_df=classifier.load_data(path_to_data)\n",
    "\n",
    "#print(data_df.head()) #it should display a 512x32 dataframe"
   ]
  },
  {
   "cell_type": "markdown",
   "id": "49527d80",
   "metadata": {},
   "source": [
    "# Preprocessing"
   ]
  },
  {
   "cell_type": "code",
   "execution_count": 5,
   "id": "59533d12",
   "metadata": {},
   "outputs": [],
   "source": [
    "data_new_df=classifier.preprocess_data(data_df, columns_to_drop=None)"
   ]
  },
  {
   "cell_type": "markdown",
   "id": "d245c552",
   "metadata": {},
   "source": [
    "# Feature Selection"
   ]
  },
  {
   "cell_type": "code",
   "execution_count": 6,
   "id": "a6013f41",
   "metadata": {},
   "outputs": [],
   "source": [
    "X, y=classifier.separate_features_target(data_new_df, target='diagnosis', columns_to_remove=None)\n",
    "#print(X)\n",
    "#print(y)"
   ]
  },
  {
   "cell_type": "code",
   "execution_count": 7,
   "id": "28eb0d47",
   "metadata": {},
   "outputs": [
    {
     "name": "stdout",
     "output_type": "stream",
     "text": [
      "The selected features of 31 were: 15\n",
      "['radius_mean', 'perimeter_mean', 'area_mean', 'compactness_mean', 'concavity_mean', 'concave points_mean', 'radius_se', 'perimeter_se', 'area_se', 'radius_worst', 'perimeter_worst', 'area_worst', 'compactness_worst', 'concavity_worst', 'concave points_worst']\n"
     ]
    }
   ],
   "source": [
    "selected_features, correlations=classifier.select_features(X, y, threshold=0.5)\n",
    "print(selected_features)\n",
    "\n",
    "# Creates a new dataset that contains only the selected features \n",
    "X_selected=X[selected_features]\n",
    "#print(X_selected)\n",
    "\n",
    "selected_feature_names = X_selected.columns.tolist()\n",
    "target = 'diagnosis'\n",
    "data_selected_df = data_new_df[selected_feature_names + [target]]\n",
    "#print(data_selected_df) # the way this new dataframe is built the diagnosis column is last"
   ]
  },
  {
   "cell_type": "markdown",
   "id": "ce6d4c14",
   "metadata": {},
   "source": [
    "### Model initialization "
   ]
  },
  {
   "cell_type": "code",
   "execution_count": 8,
   "id": "2d2321b9",
   "metadata": {},
   "outputs": [],
   "source": [
    "model=SVC(random_state=0)\n",
    "svc_param_grid=[\n",
    "        {'kernel': ['linear'], 'C': [0.1, 1, 10]},\n",
    "        {'kernel': ['rbf'], 'C': [0.1, 1, 10], 'gamma': ['scale', 'auto', 0.01, 0.1]}\n",
    "    ]"
   ]
  },
  {
   "cell_type": "code",
   "execution_count": 9,
   "id": "92cb0df4",
   "metadata": {},
   "outputs": [
    {
     "name": "stdout",
     "output_type": "stream",
     "text": [
      "                                        0                             1   \\\n",
      "__winner__  {'kernel': 'linear', 'C': 0.1}  {'kernel': 'linear', 'C': 1}   \n",
      "\n",
      "                                       2   \\\n",
      "__winner__  {'kernel': 'linear', 'C': 10}   \n",
      "\n",
      "                                                       3   \\\n",
      "__winner__  {'kernel': 'rbf', 'C': 0.1, 'gamma': 'scale'}   \n",
      "\n",
      "                                                      4   \\\n",
      "__winner__  {'kernel': 'rbf', 'C': 0.1, 'gamma': 'auto'}   \n",
      "\n",
      "                                                    5   \\\n",
      "__winner__  {'kernel': 'rbf', 'C': 0.1, 'gamma': 0.01}   \n",
      "\n",
      "                                                   6   \\\n",
      "__winner__  {'kernel': 'rbf', 'C': 0.1, 'gamma': 0.1}   \n",
      "\n",
      "                                                     7   \\\n",
      "__winner__  {'kernel': 'rbf', 'C': 1, 'gamma': 'scale'}   \n",
      "\n",
      "                                                    8   \\\n",
      "__winner__  {'kernel': 'rbf', 'C': 1, 'gamma': 'auto'}   \n",
      "\n",
      "                                                  9   \\\n",
      "__winner__  {'kernel': 'rbf', 'C': 1, 'gamma': 0.01}   \n",
      "\n",
      "                                                 10  \\\n",
      "__winner__  {'kernel': 'rbf', 'C': 1, 'gamma': 0.1}   \n",
      "\n",
      "                                                      11  \\\n",
      "__winner__  {'kernel': 'rbf', 'C': 10, 'gamma': 'scale'}   \n",
      "\n",
      "                                                     12  \\\n",
      "__winner__  {'kernel': 'rbf', 'C': 10, 'gamma': 'auto'}   \n",
      "\n",
      "                                                   13  \\\n",
      "__winner__  {'kernel': 'rbf', 'C': 10, 'gamma': 0.01}   \n",
      "\n",
      "                                                  14  \n",
      "__winner__  {'kernel': 'rbf', 'C': 10, 'gamma': 0.1}  \n"
     ]
    }
   ],
   "source": [
    "svc_param_combinations=ncv.generate_param_combinations(param_grid=svc_param_grid)\n",
    "svc_combo_df_summary = pd.DataFrame.from_dict(svc_param_combinations, orient='index')\n",
    "print(svc_combo_df_summary)"
   ]
  },
  {
   "cell_type": "markdown",
   "id": "2f301bfc",
   "metadata": {},
   "source": [
    "# Hyperparameter Tuning using 5-fold Cross Validation"
   ]
  },
  {
   "cell_type": "code",
   "execution_count": null,
   "id": "ec20b019",
   "metadata": {},
   "outputs": [
    {
     "name": "stdout",
     "output_type": "stream",
     "text": [
      "[SVC] Tested params: {'kernel': 'linear', 'C': 0.1}\n",
      "[SVC] AUC: 0.9884\n",
      "[SVC] New best AUC: 0.9884\n",
      "[SVC] Best params so far: {'kernel': 'linear', 'C': 0.1}\n",
      "[SVC] Tested params: {'kernel': 'linear', 'C': 1}\n",
      "[SVC] AUC: 0.9873\n",
      "[SVC] Tested params: {'kernel': 'linear', 'C': 10}\n",
      "[SVC] AUC: 0.9873\n",
      "[SVC] Tested params: {'kernel': 'rbf', 'C': 0.1, 'gamma': 'scale'}\n",
      "[SVC] AUC: 0.9606\n",
      "[SVC] Tested params: {'kernel': 'rbf', 'C': 0.1, 'gamma': 'auto'}\n",
      "[SVC] AUC: 0.5296\n",
      "[SVC] Tested params: {'kernel': 'rbf', 'C': 0.1, 'gamma': 0.01}\n",
      "[SVC] AUC: 0.7013\n",
      "[SVC] Tested params: {'kernel': 'rbf', 'C': 0.1, 'gamma': 0.1}\n",
      "[SVC] AUC: 0.5000\n",
      "[SVC] Tested params: {'kernel': 'rbf', 'C': 1, 'gamma': 'scale'}\n",
      "[SVC] AUC: 0.9669\n",
      "[SVC] Tested params: {'kernel': 'rbf', 'C': 1, 'gamma': 'auto'}\n",
      "[SVC] AUC: 0.5358\n",
      "[SVC] Tested params: {'kernel': 'rbf', 'C': 1, 'gamma': 0.01}\n",
      "[SVC] AUC: 0.7303\n",
      "[SVC] Tested params: {'kernel': 'rbf', 'C': 1, 'gamma': 0.1}\n",
      "[SVC] AUC: 0.5000\n",
      "[SVC] Tested params: {'kernel': 'rbf', 'C': 10, 'gamma': 'scale'}\n",
      "[SVC] AUC: 0.9730\n",
      "[SVC] Tested params: {'kernel': 'rbf', 'C': 10, 'gamma': 'auto'}\n",
      "[SVC] AUC: 0.5405\n",
      "[SVC] Tested params: {'kernel': 'rbf', 'C': 10, 'gamma': 0.01}\n",
      "[SVC] AUC: 0.7436\n",
      "[SVC] Tested params: {'kernel': 'rbf', 'C': 10, 'gamma': 0.1}\n",
      "[SVC] AUC: 0.5000\n"
     ]
    }
   ],
   "source": [
    "svc_results=classifier.model_tuning(SVC, X, y, param_grid=svc_param_grid, cv=5)\n",
    "print(svc_results[''])"
   ]
  },
  {
   "cell_type": "code",
   "execution_count": 11,
   "id": "803729d3",
   "metadata": {},
   "outputs": [
    {
     "name": "stdout",
     "output_type": "stream",
     "text": [
      "Best AUC:   0.9884\n",
      "Best Model: SVC(C=0.1, kernel='linear')\n",
      "Best Params: {'kernel': 'linear', 'C': 0.1}\n"
     ]
    }
   ],
   "source": [
    "best_model  = svc_results['Best Model']\n",
    "best_params = svc_results['Best Params']\n",
    "best_auc    = svc_results['Best AUC']\n",
    "\n",
    "# print them\n",
    "print(f\"Best AUC:   {best_auc:.4f}\")\n",
    "print(f\"Best Model: {best_model}\")\n",
    "print(f\"Best Params: {best_params}\")"
   ]
  }
 ],
 "metadata": {
  "kernelspec": {
   "display_name": "base",
   "language": "python",
   "name": "python3"
  },
  "language_info": {
   "codemirror_mode": {
    "name": "ipython",
    "version": 3
   },
   "file_extension": ".py",
   "mimetype": "text/x-python",
   "name": "python",
   "nbconvert_exporter": "python",
   "pygments_lexer": "ipython3",
   "version": "3.12.9"
  }
 },
 "nbformat": 4,
 "nbformat_minor": 5
}
