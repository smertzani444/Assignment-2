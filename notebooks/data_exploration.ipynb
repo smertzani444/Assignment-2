{
 "cells": [
  {
   "cell_type": "markdown",
   "id": "30237fd7",
   "metadata": {},
   "source": [
    "# Explratory Data Analysis "
   ]
  },
  {
   "cell_type": "code",
   "execution_count": 54,
   "id": "21a2c9d1",
   "metadata": {},
   "outputs": [],
   "source": [
    "import pandas as pd\n",
    "import numpy as np\n",
    "import joblib\n",
    "import sys\n",
    "import os\n",
    "import itertools\n",
    "import seaborn as sns\n",
    "import matplotlib.pyplot as plt\n",
    "from sklearn.impute import SimpleImputer\n",
    "from sklearn.model_selection import train_test_split\n",
    "from sklearn.feature_selection import r_regression\n",
    "from sklearn.decomposition import PCA\n",
    "from sklearn.preprocessing import StandardScaler, OneHotEncoder, LabelEncoder"
   ]
  },
  {
   "cell_type": "code",
   "execution_count": 2,
   "id": "bba0e05f",
   "metadata": {},
   "outputs": [],
   "source": [
    "PROJECT_ROOT = os.path.abspath(\"..\")\n",
    "if PROJECT_ROOT not in sys.path:\n",
    "    sys.path.append(PROJECT_ROOT)"
   ]
  },
  {
   "cell_type": "markdown",
   "id": "aed74dbe",
   "metadata": {},
   "source": [
    "### Load the data "
   ]
  },
  {
   "cell_type": "code",
   "execution_count": 9,
   "id": "6cf66888",
   "metadata": {},
   "outputs": [],
   "source": [
    "def load_data(path):\n",
    "        if not os.path.isfile(path):\n",
    "            raise FileNotFoundError(f\"The file at {path} was not found.\")\n",
    "        return pd.read_csv(path)\n",
    "\n",
    "path_to_data=\"/home/user_stel/Assignment-2/data/breast_cancer.csv\"\n",
    "data_df=load_data(path_to_data)\n",
    "\n",
    "#print(data_df.head()) #it should display a 512x32 dataframe"
   ]
  },
  {
   "cell_type": "code",
   "execution_count": 67,
   "id": "5c567798",
   "metadata": {},
   "outputs": [
    {
     "name": "stdout",
     "output_type": "stream",
     "text": [
      "   id diagnosis  radius_mean  texture_mean  perimeter_mean  area_mean  \\\n",
      "0   1         M        14.68         20.13           94.74      684.5   \n",
      "1   2         B        11.50         18.45           73.28      407.4   \n",
      "2   3         M        15.85         23.95          103.70      782.7   \n",
      "3   4         M        18.82         21.97          123.70     1110.0   \n",
      "4   5         B        12.95         16.02           83.14      513.7   \n",
      "\n",
      "   smoothness_mean  compactness_mean  concavity_mean  concave points_mean  \\\n",
      "0          0.09867           0.07200         0.07395              0.05259   \n",
      "1          0.09345           0.05991         0.02638              0.02069   \n",
      "2          0.08401           0.10020         0.09938              0.05364   \n",
      "3          0.10180           0.13890         0.15940              0.08744   \n",
      "4          0.10050           0.07943         0.06155              0.03370   \n",
      "\n",
      "   ...  radius_worst  texture_worst  perimeter_worst  area_worst  \\\n",
      "0  ...         19.07          30.88           123.40      1138.0   \n",
      "1  ...         12.97          22.46            83.12       508.9   \n",
      "2  ...         16.84          27.66           112.00       876.5   \n",
      "3  ...         22.66          30.93           145.30      1603.0   \n",
      "4  ...         13.74          19.93            88.81       585.4   \n",
      "\n",
      "   smoothness_worst  compactness_worst  concavity_worst  concave points_worst  \\\n",
      "0            0.1464             0.1871          0.29140               0.16090   \n",
      "1            0.1183             0.1049          0.08105               0.06544   \n",
      "2            0.1131             0.1924          0.23220               0.11190   \n",
      "3            0.1390             0.3463          0.39120               0.17080   \n",
      "4            0.1483                NaN          0.22410               0.10560   \n",
      "\n",
      "   symmetry_worst  fractal_dimension_worst  \n",
      "0          0.3029                  0.08216  \n",
      "1          0.2740                      NaN  \n",
      "2          0.2809                  0.06287  \n",
      "3          0.3007                  0.08314  \n",
      "4          0.3380                  0.09584  \n",
      "\n",
      "[5 rows x 32 columns]\n"
     ]
    }
   ],
   "source": [
    "print(data_df.head()) #it should display a 512x32 dataframe"
   ]
  },
  {
   "cell_type": "markdown",
   "id": "5594d5bd",
   "metadata": {},
   "source": [
    "### Separate Features from Target"
   ]
  },
  {
   "cell_type": "code",
   "execution_count": null,
   "id": "e417df30",
   "metadata": {},
   "outputs": [],
   "source": [
    "def separate_features_target(df, target, columns_to_remove=None):\n",
    "    if columns_to_remove is None:\n",
    "        columns_to_remove=[]\n",
    "    columns_to_remove=set(columns_to_remove + [target])\n",
    "    X=df.drop(columns=[col for col in columns_to_remove if col in df.columns])\n",
    "    y=df[target]\n",
    "    return X, y\n",
    "\n",
    "X, y=separate_features_target(data_df, target='diagnosis', columns_to_remove=None)\n",
    "#print(X)\n",
    "#print(y)"
   ]
  },
  {
   "cell_type": "markdown",
   "id": "47367db0",
   "metadata": {},
   "source": [
    "### Dataset Overview and Descriptive Statistics"
   ]
  },
  {
   "cell_type": "code",
   "execution_count": 51,
   "id": "7a72b790",
   "metadata": {},
   "outputs": [
    {
     "name": "stdout",
     "output_type": "stream",
     "text": [
      "Dataset Shape: (512, 32)\n",
      "\n",
      "Feature Column Data Types:\n",
      " id                           int64\n",
      "diagnosis                   object\n",
      "radius_mean                float64\n",
      "texture_mean               float64\n",
      "perimeter_mean             float64\n",
      "area_mean                  float64\n",
      "smoothness_mean            float64\n",
      "compactness_mean           float64\n",
      "concavity_mean             float64\n",
      "concave points_mean        float64\n",
      "symmetry_mean              float64\n",
      "fractal_dimension_mean     float64\n",
      "radius_se                  float64\n",
      "texture_se                 float64\n",
      "perimeter_se               float64\n",
      "area_se                    float64\n",
      "smoothness_se              float64\n",
      "compactness_se             float64\n",
      "concavity_se               float64\n",
      "concave points_se          float64\n",
      "symmetry_se                float64\n",
      "fractal_dimension_se       float64\n",
      "radius_worst               float64\n",
      "texture_worst              float64\n",
      "perimeter_worst            float64\n",
      "area_worst                 float64\n",
      "smoothness_worst           float64\n",
      "compactness_worst          float64\n",
      "concavity_worst            float64\n",
      "concave points_worst       float64\n",
      "symmetry_worst             float64\n",
      "fractal_dimension_worst    float64\n",
      "dtype: object\n",
      "\n",
      "Number of duplicate rows: 0\n"
     ]
    }
   ],
   "source": [
    "# Examine shape and format of the dataset\n",
    "print(\"Dataset Shape:\", data_df.shape)\n",
    "\n",
    "# Examine column data types \n",
    "print(\"\\nFeature Column Data Types:\\n\", data_df.dtypes)\n",
    "\n",
    "# Examine if there are any duplicate rows\n",
    "print(\"\\nNumber of duplicate rows:\", data_df.duplicated().sum())"
   ]
  },
  {
   "cell_type": "code",
   "execution_count": 59,
   "id": "8b26522a",
   "metadata": {},
   "outputs": [
    {
     "name": "stdout",
     "output_type": "stream",
     "text": [
      "    id  diagnosis  radius_mean  texture_mean  perimeter_mean  area_mean  \\\n",
      "0  1.0          1        14.68         20.13           94.74      684.5   \n",
      "1  2.0          0        11.50         18.45           73.28      407.4   \n",
      "2  3.0          1        15.85         23.95          103.70      782.7   \n",
      "3  4.0          1        18.82         21.97          123.70     1110.0   \n",
      "4  5.0          0        12.95         16.02           83.14      513.7   \n",
      "\n",
      "   smoothness_mean  compactness_mean  concavity_mean  concave points_mean  \\\n",
      "0          0.09867           0.07200         0.07395              0.05259   \n",
      "1          0.09345           0.05991         0.02638              0.02069   \n",
      "2          0.08401           0.10020         0.09938              0.05364   \n",
      "3          0.10180           0.13890         0.15940              0.08744   \n",
      "4          0.10050           0.07943         0.06155              0.03370   \n",
      "\n",
      "   ...  radius_worst  texture_worst  perimeter_worst  area_worst  \\\n",
      "0  ...         19.07          30.88           123.40      1138.0   \n",
      "1  ...         12.97          22.46            83.12       508.9   \n",
      "2  ...         16.84          27.66           112.00       876.5   \n",
      "3  ...         22.66          30.93           145.30      1603.0   \n",
      "4  ...         13.74          19.93            88.81       585.4   \n",
      "\n",
      "   smoothness_worst  compactness_worst  concavity_worst  concave points_worst  \\\n",
      "0            0.1464           0.187100          0.29140               0.16090   \n",
      "1            0.1183           0.104900          0.08105               0.06544   \n",
      "2            0.1131           0.192400          0.23220               0.11190   \n",
      "3            0.1390           0.346300          0.39120               0.17080   \n",
      "4            0.1483           0.251145          0.22410               0.10560   \n",
      "\n",
      "   symmetry_worst  fractal_dimension_worst  \n",
      "0          0.3029                 0.082160  \n",
      "1          0.2740                 0.083879  \n",
      "2          0.2809                 0.062870  \n",
      "3          0.3007                 0.083140  \n",
      "4          0.3380                 0.095840  \n",
      "\n",
      "[5 rows x 32 columns]\n"
     ]
    }
   ],
   "source": [
    "def preprocess_data(df, columns_to_drop=[]):\n",
    "    df=df.drop(columns=[col for col in columns_to_drop if col in df.columns])\n",
    "    num_list=df.select_dtypes(include=[np.number]).columns.tolist()\n",
    "    cat_list=df.select_dtypes(exclude=[np.number]).columns.tolist()\n",
    "\n",
    "    for col in cat_list:\n",
    "        df[col]=LabelEncoder().fit_transform(df[col])\n",
    "\n",
    "    for col in num_list:\n",
    "        df[col] = SimpleImputer(missing_values=np.nan, strategy='mean') \\\n",
    "            .fit_transform(df[[col]]).ravel()\n",
    "    \n",
    "    return df\n",
    "\n",
    "data_new_df=preprocess_data(data_df, columns_to_drop=[])\n",
    "print(data_new_df.head())"
   ]
  },
  {
   "cell_type": "code",
   "execution_count": null,
   "id": "e67a6c40",
   "metadata": {},
   "outputs": [
    {
     "name": "stdout",
     "output_type": "stream",
     "text": [
      "Absolute Class Frequencies:\n",
      "diagnosis\n",
      "0    321\n",
      "1    191\n",
      "Name: count, dtype: int64\n",
      "\n",
      "Class Proportions:\n",
      "diagnosis\n",
      "0    0.626953\n",
      "1    0.373047\n",
      "Name: proportion, dtype: float64\n"
     ]
    },
    {
     "name": "stderr",
     "output_type": "stream",
     "text": [
      "/tmp/ipykernel_9744/3407821556.py:15: FutureWarning: \n",
      "\n",
      "Passing `palette` without assigning `hue` is deprecated and will be removed in v0.14.0. Assign the `x` variable to `hue` and set `legend=False` for the same effect.\n",
      "\n",
      "  sns.countplot(x='diagnosis', data=data_new_df, order=desired_order, palette='Set3')\n"
     ]
    },
    {
     "data": {
      "image/png": "[encoded data removed]",
      "text/plain": [
       "<Figure size 800x400 with 1 Axes>"
      ]
     },
     "metadata": {},
     "output_type": "display_data"
    },
    {
     "data": {
      "image/png": "[encoded data removed]",
      "text/plain": [
       "<Figure size 800x400 with 1 Axes>"
      ]
     },
     "metadata": {},
     "output_type": "display_data"
    }
   ],
   "source": [
    "# Examine class imbalance\n",
    "# M=1, B=0\n",
    "desired_order = [0, 1]  \n",
    "\n",
    "diagnosis_entries = data_new_df['diagnosis'].value_counts().reindex(desired_order)\n",
    "print(\"Absolute Class Frequencies:\")\n",
    "print(diagnosis_entries)\n",
    "\n",
    "diagnosis_proportions = data_new_df['diagnosis'].value_counts(normalize=True)\n",
    "print(\"\\nClass Proportions:\")\n",
    "print(diagnosis_proportions)\n",
    "\n",
    "# Visualization: Box-Plot\n",
    "plt.figure(figsize=(8, 4))\n",
    "sns.countplot(x='diagnosis', data=data_new_df, order=desired_order, palette='Set3')\n",
    "plt.title(\"Class Distribution of Diagnosis\")\n",
    "plt.xlabel(\"Diagnosis\")\n",
    "plt.ylabel(\"entries\")\n",
    "plt.show()\n",
    "\n",
    "# Visualization: Pie Chart\n",
    "plt.figure(figsize=(8, 4))\n",
    "plt.pie(\n",
    "    diagnosis_entries,\n",
    "    labels=diagnosis_entries.index,\n",
    "    autopct='%1.1f%%',\n",
    "    startangle=90,\n",
    "    colors=sns.color_palette('Set3')\n",
    ")\n",
    "plt.title(\"Class Distribution of Diagnosis\")\n",
    "plt.axis('equal') \n",
    "plt.show()"
   ]
  },
  {
   "cell_type": "markdown",
   "id": "ba05fe62",
   "metadata": {},
   "source": [
    "### Feature Assessment and Visualization"
   ]
  },
  {
   "cell_type": "code",
   "execution_count": 53,
   "id": "c1e0a036",
   "metadata": {},
   "outputs": [
    {
     "ename": "TypeError",
     "evalue": "ufunc 'divide' not supported for the input types, and the inputs could not be safely coerced to any supported types according to the casting rule ''safe''",
     "output_type": "error",
     "traceback": [
      "\u001b[31m---------------------------------------------------------------------------\u001b[39m",
      "\u001b[31mTypeError\u001b[39m                                 Traceback (most recent call last)",
      "\u001b[36mCell\u001b[39m\u001b[36m \u001b[39m\u001b[32mIn[53]\u001b[39m\u001b[32m, line 7\u001b[39m\n\u001b[32m      4\u001b[39m         \u001b[38;5;28mprint\u001b[39m(\u001b[33mf\u001b[39m\u001b[33m\"\u001b[39m\u001b[33mThe selected features of \u001b[39m\u001b[38;5;132;01m{\u001b[39;00mX.shape[\u001b[32m1\u001b[39m]\u001b[38;5;132;01m}\u001b[39;00m\u001b[33m were: \u001b[39m\u001b[38;5;132;01m{\u001b[39;00m\u001b[38;5;28mlen\u001b[39m(selected_features)\u001b[38;5;132;01m}\u001b[39;00m\u001b[33m\"\u001b[39m)\n\u001b[32m      5\u001b[39m         \u001b[38;5;28;01mreturn\u001b[39;00m selected_features, correlations\n\u001b[32m----> \u001b[39m\u001b[32m7\u001b[39m selected_features, correlations=\u001b[43mselect_features\u001b[49m\u001b[43m(\u001b[49m\u001b[43mX_new\u001b[49m\u001b[43m,\u001b[49m\u001b[43m \u001b[49m\u001b[43my\u001b[49m\u001b[43m,\u001b[49m\u001b[43m \u001b[49m\u001b[43mthreshold\u001b[49m\u001b[43m=\u001b[49m\u001b[32;43m0.1\u001b[39;49m\u001b[43m)\u001b[49m\n\u001b[32m      8\u001b[39m \u001b[38;5;28mprint\u001b[39m(selected_features)\n",
      "\u001b[36mCell\u001b[39m\u001b[36m \u001b[39m\u001b[32mIn[53]\u001b[39m\u001b[32m, line 2\u001b[39m, in \u001b[36mselect_features\u001b[39m\u001b[34m(X, y, threshold)\u001b[39m\n\u001b[32m      1\u001b[39m \u001b[38;5;28;01mdef\u001b[39;00m \u001b[34mselect_features\u001b[39m(X, y, threshold=\u001b[32m0.1\u001b[39m):\n\u001b[32m----> \u001b[39m\u001b[32m2\u001b[39m         correlations = pd.Series(\u001b[43mr_regression\u001b[49m\u001b[43m(\u001b[49m\u001b[43mX\u001b[49m\u001b[43m,\u001b[49m\u001b[43m \u001b[49m\u001b[43my\u001b[49m\u001b[43m)\u001b[49m, index=X.columns)\n\u001b[32m      3\u001b[39m         selected_features = correlations[correlations.abs() >= threshold].index.tolist()\n\u001b[32m      4\u001b[39m         \u001b[38;5;28mprint\u001b[39m(\u001b[33mf\u001b[39m\u001b[33m\"\u001b[39m\u001b[33mThe selected features of \u001b[39m\u001b[38;5;132;01m{\u001b[39;00mX.shape[\u001b[32m1\u001b[39m]\u001b[38;5;132;01m}\u001b[39;00m\u001b[33m were: \u001b[39m\u001b[38;5;132;01m{\u001b[39;00m\u001b[38;5;28mlen\u001b[39m(selected_features)\u001b[38;5;132;01m}\u001b[39;00m\u001b[33m\"\u001b[39m)\n",
      "\u001b[36mFile \u001b[39m\u001b[32m~/miniconda3/lib/python3.12/site-packages/sklearn/utils/_param_validation.py:216\u001b[39m, in \u001b[36mvalidate_params.<locals>.decorator.<locals>.wrapper\u001b[39m\u001b[34m(*args, **kwargs)\u001b[39m\n\u001b[32m    210\u001b[39m \u001b[38;5;28;01mtry\u001b[39;00m:\n\u001b[32m    211\u001b[39m     \u001b[38;5;28;01mwith\u001b[39;00m config_context(\n\u001b[32m    212\u001b[39m         skip_parameter_validation=(\n\u001b[32m    213\u001b[39m             prefer_skip_nested_validation \u001b[38;5;129;01mor\u001b[39;00m global_skip_validation\n\u001b[32m    214\u001b[39m         )\n\u001b[32m    215\u001b[39m     ):\n\u001b[32m--> \u001b[39m\u001b[32m216\u001b[39m         \u001b[38;5;28;01mreturn\u001b[39;00m \u001b[43mfunc\u001b[49m\u001b[43m(\u001b[49m\u001b[43m*\u001b[49m\u001b[43margs\u001b[49m\u001b[43m,\u001b[49m\u001b[43m \u001b[49m\u001b[43m*\u001b[49m\u001b[43m*\u001b[49m\u001b[43mkwargs\u001b[49m\u001b[43m)\u001b[49m\n\u001b[32m    217\u001b[39m \u001b[38;5;28;01mexcept\u001b[39;00m InvalidParameterError \u001b[38;5;28;01mas\u001b[39;00m e:\n\u001b[32m    218\u001b[39m     \u001b[38;5;66;03m# When the function is just a wrapper around an estimator, we allow\u001b[39;00m\n\u001b[32m    219\u001b[39m     \u001b[38;5;66;03m# the function to delegate validation to the estimator, but we replace\u001b[39;00m\n\u001b[32m    220\u001b[39m     \u001b[38;5;66;03m# the name of the estimator by the name of the function in the error\u001b[39;00m\n\u001b[32m    221\u001b[39m     \u001b[38;5;66;03m# message to avoid confusion.\u001b[39;00m\n\u001b[32m    222\u001b[39m     msg = re.sub(\n\u001b[32m    223\u001b[39m         \u001b[33mr\u001b[39m\u001b[33m\"\u001b[39m\u001b[33mparameter of \u001b[39m\u001b[33m\\\u001b[39m\u001b[33mw+ must be\u001b[39m\u001b[33m\"\u001b[39m,\n\u001b[32m    224\u001b[39m         \u001b[33mf\u001b[39m\u001b[33m\"\u001b[39m\u001b[33mparameter of \u001b[39m\u001b[38;5;132;01m{\u001b[39;00mfunc.\u001b[34m__qualname__\u001b[39m\u001b[38;5;132;01m}\u001b[39;00m\u001b[33m must be\u001b[39m\u001b[33m\"\u001b[39m,\n\u001b[32m    225\u001b[39m         \u001b[38;5;28mstr\u001b[39m(e),\n\u001b[32m    226\u001b[39m     )\n",
      "\u001b[36mFile \u001b[39m\u001b[32m~/miniconda3/lib/python3.12/site-packages/sklearn/feature_selection/_univariate_selection.py:372\u001b[39m, in \u001b[36mr_regression\u001b[39m\u001b[34m(X, y, center, force_finite)\u001b[39m\n\u001b[32m    368\u001b[39m \u001b[38;5;66;03m# Compute centered values\u001b[39;00m\n\u001b[32m    369\u001b[39m \u001b[38;5;66;03m# Note that E[(x - mean(x))*(y - mean(y))] = E[x*(y - mean(y))], so we\u001b[39;00m\n\u001b[32m    370\u001b[39m \u001b[38;5;66;03m# need not center X\u001b[39;00m\n\u001b[32m    371\u001b[39m \u001b[38;5;28;01mif\u001b[39;00m center:\n\u001b[32m--> \u001b[39m\u001b[32m372\u001b[39m     y = y - \u001b[43mnp\u001b[49m\u001b[43m.\u001b[49m\u001b[43mmean\u001b[49m\u001b[43m(\u001b[49m\u001b[43my\u001b[49m\u001b[43m)\u001b[49m\n\u001b[32m    373\u001b[39m     \u001b[38;5;66;03m# TODO: for Scipy <= 1.10, `isspmatrix(X)` returns `True` for sparse arrays.\u001b[39;00m\n\u001b[32m    374\u001b[39m     \u001b[38;5;66;03m# Here, we check the output of the `.mean` operation that returns a `np.matrix`\u001b[39;00m\n\u001b[32m    375\u001b[39m     \u001b[38;5;66;03m# for sparse matrices while a `np.array` for dense and sparse arrays.\u001b[39;00m\n\u001b[32m    376\u001b[39m     \u001b[38;5;66;03m# We can reconsider using `isspmatrix` when the minimum version is\u001b[39;00m\n\u001b[32m    377\u001b[39m     \u001b[38;5;66;03m# SciPy >= 1.11\u001b[39;00m\n\u001b[32m    378\u001b[39m     X_means = X.mean(axis=\u001b[32m0\u001b[39m)\n",
      "\u001b[36mFile \u001b[39m\u001b[32m~/miniconda3/lib/python3.12/site-packages/numpy/_core/fromnumeric.py:3860\u001b[39m, in \u001b[36mmean\u001b[39m\u001b[34m(a, axis, dtype, out, keepdims, where)\u001b[39m\n\u001b[32m   3857\u001b[39m     \u001b[38;5;28;01melse\u001b[39;00m:\n\u001b[32m   3858\u001b[39m         \u001b[38;5;28;01mreturn\u001b[39;00m mean(axis=axis, dtype=dtype, out=out, **kwargs)\n\u001b[32m-> \u001b[39m\u001b[32m3860\u001b[39m \u001b[38;5;28;01mreturn\u001b[39;00m \u001b[43m_methods\u001b[49m\u001b[43m.\u001b[49m\u001b[43m_mean\u001b[49m\u001b[43m(\u001b[49m\u001b[43ma\u001b[49m\u001b[43m,\u001b[49m\u001b[43m \u001b[49m\u001b[43maxis\u001b[49m\u001b[43m=\u001b[49m\u001b[43maxis\u001b[49m\u001b[43m,\u001b[49m\u001b[43m \u001b[49m\u001b[43mdtype\u001b[49m\u001b[43m=\u001b[49m\u001b[43mdtype\u001b[49m\u001b[43m,\u001b[49m\n\u001b[32m   3861\u001b[39m \u001b[43m                      \u001b[49m\u001b[43mout\u001b[49m\u001b[43m=\u001b[49m\u001b[43mout\u001b[49m\u001b[43m,\u001b[49m\u001b[43m \u001b[49m\u001b[43m*\u001b[49m\u001b[43m*\u001b[49m\u001b[43mkwargs\u001b[49m\u001b[43m)\u001b[49m\n",
      "\u001b[36mFile \u001b[39m\u001b[32m~/miniconda3/lib/python3.12/site-packages/numpy/_core/_methods.py:147\u001b[39m, in \u001b[36m_mean\u001b[39m\u001b[34m(a, axis, dtype, out, keepdims, where)\u001b[39m\n\u001b[32m    145\u001b[39m         ret = ret.dtype.type(ret / rcount)\n\u001b[32m    146\u001b[39m \u001b[38;5;28;01melse\u001b[39;00m:\n\u001b[32m--> \u001b[39m\u001b[32m147\u001b[39m     ret = \u001b[43mret\u001b[49m\u001b[43m \u001b[49m\u001b[43m/\u001b[49m\u001b[43m \u001b[49m\u001b[43mrcount\u001b[49m\n\u001b[32m    149\u001b[39m \u001b[38;5;28;01mreturn\u001b[39;00m ret\n",
      "\u001b[31mTypeError\u001b[39m: ufunc 'divide' not supported for the input types, and the inputs could not be safely coerced to any supported types according to the casting rule ''safe''"
     ]
    }
   ],
   "source": [
    "def select_features(X, y, threshold=0.1):\n",
    "        correlations = pd.Series(r_regression(X, y), index=X.columns)\n",
    "        selected_features = correlations[correlations.abs() >= threshold].index.tolist()\n",
    "        print(f\"The selected features of {X.shape[1]} were: {len(selected_features)}\")\n",
    "        return selected_features, correlations\n",
    "\n",
    "selected_features, correlations=select_features(X_new, y, threshold=0.1)\n",
    "print(selected_features)"
   ]
  }
 ],
 "metadata": {
  "kernelspec": {
   "display_name": "base",
   "language": "python",
   "name": "python3"
  },
  "language_info": {
   "codemirror_mode": {
    "name": "ipython",
    "version": 3
   },
   "file_extension": ".py",
   "mimetype": "text/x-python",
   "name": "python",
   "nbconvert_exporter": "python",
   "pygments_lexer": "ipython3",
   "version": "3.12.9"
  }
 },
 "nbformat": 4,
 "nbformat_minor": 5
}
